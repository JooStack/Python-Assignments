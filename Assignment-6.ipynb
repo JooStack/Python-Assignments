{
 "cells": [
  {
   "cell_type": "markdown",
   "metadata": {},
   "source": [
    "### Calculate service bonus  \n"
   ]
  },
  {
   "cell_type": "code",
   "execution_count": 2,
   "metadata": {},
   "outputs": [
    {
     "name": "stdout",
     "output_type": "stream",
     "text": [
      "Congratulations you won $ 8996.4 bonus \n"
     ]
    }
   ],
   "source": [
    "\n",
    "salary=int(input(\"Enter your salary..($)..\"))\n",
    "\n",
    "service=int(input(\"How many year your service ? \"))\n",
    "\n",
    "if service >= 5 :\n",
    "\n",
    "  bonus= salary + (salary * (5/100))\n",
    "  print(f\"Congratulations you won $ {bonus} bonus \")\n",
    "else:\n",
    "  print(f\"Sorry you must work {5-service} more year to take bonus..\")"
   ]
  }
 ],
 "metadata": {
  "interpreter": {
   "hash": "5e1c0650b3c4e66ca21157f6c57ec13966c7c2d9c396385eb00557cdcc2c7667"
  },
  "kernelspec": {
   "display_name": "Python 3.10.4 64-bit",
   "language": "python",
   "name": "python3"
  },
  "language_info": {
   "codemirror_mode": {
    "name": "ipython",
    "version": 3
   },
   "file_extension": ".py",
   "mimetype": "text/x-python",
   "name": "python",
   "nbconvert_exporter": "python",
   "pygments_lexer": "ipython3",
   "version": "3.10.4"
  },
  "orig_nbformat": 4
 },
 "nbformat": 4,
 "nbformat_minor": 2
}
