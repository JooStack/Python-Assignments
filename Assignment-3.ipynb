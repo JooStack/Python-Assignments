{
 "cells": [
  {
   "cell_type": "markdown",
   "metadata": {},
   "source": [
    "## Problem :\n",
    "### Task : Estimating the risk of death from coronavirus.\n",
    "#### Consider the following questions in terms of True/False regarding anyone else.\n",
    "#### Are you a cigarette addict older than 75 years old? Variable → age\n",
    "#### Do you have a severe chronic disease? Variable → chronic\n",
    "#### Is your immune system too weak? Variable → immune\n",
    "#### Set a logical algorithm using boolean logic operators (and/or) and the given variables in order to give us True (there is a risk of death) or False (there is not a risk of death) as a result."
   ]
  },
  {
   "cell_type": "code",
   "execution_count": 3,
   "metadata": {},
   "outputs": [
    {
     "name": "stdout",
     "output_type": "stream",
     "text": [
      "\n",
      "You are in risky group!!!\n"
     ]
    }
   ],
   "source": [
    "\t\n",
    "age = input(\"Are you a cigarette addict older than 75 years old? (Yes/No) \").lower().strip()==\"yes\"\n",
    "chronic = input(\"Do you have a severe chronic disease? (Yes/No) \").lower().strip()==\"yes\"\n",
    "immune = input(\"Is your immune system too weak? (Yes/No) \").lower().strip()!=\"no\"\n",
    "print()\n",
    "if age or chronic or immune:\n",
    "  print(\"You are in risky group!!!\")\n",
    "else:\n",
    "  print(\"You are not in risky group\")"
   ]
  }
 ],
 "metadata": {
  "interpreter": {
   "hash": "5e1c0650b3c4e66ca21157f6c57ec13966c7c2d9c396385eb00557cdcc2c7667"
  },
  "kernelspec": {
   "display_name": "Python 3.10.4 64-bit",
   "language": "python",
   "name": "python3"
  },
  "language_info": {
   "codemirror_mode": {
    "name": "ipython",
    "version": 3
   },
   "file_extension": ".py",
   "mimetype": "text/x-python",
   "name": "python",
   "nbconvert_exporter": "python",
   "pygments_lexer": "ipython3",
   "version": "3.10.4"
  },
  "orig_nbformat": 4
 },
 "nbformat": 4,
 "nbformat_minor": 2
}
