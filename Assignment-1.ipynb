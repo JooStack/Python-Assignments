{
 "cells": [
  {
   "cell_type": "markdown",
   "metadata": {},
   "source": [
    "Problem : If you had deposited a coin on the cryptocurrency exchange that brought 7% fixed profit daily for a week, how much would your $ 1000 reach at the end of the 7th day?"
   ]
  },
  {
   "cell_type": "code",
   "execution_count": 3,
   "metadata": {},
   "outputs": [
    {
     "name": "stdout",
     "output_type": "stream",
     "text": [
      "You must deposite: 622.7497418845909 $\n"
     ]
    }
   ],
   "source": [
    "day = 7\n",
    "target_earn = 1000\n",
    "fixed_profit = 1.07\n",
    "deposit = target_earn/(fixed_profit**day)  # we can change parameters as we need\n",
    "print(\"You must deposite:\" ,deposit ,\"$\")"
   ]
  },
  {
   "cell_type": "code",
   "execution_count": 4,
   "metadata": {},
   "outputs": [
    {
     "name": "stdout",
     "output_type": "stream",
     "text": [
      "You will earn: 1605.7814764784307 $\n"
     ]
    }
   ],
   "source": [
    "day = 7\n",
    "deposit = 1000\n",
    "fixed_profit = 1.07\n",
    "earn = deposit*(fixed_profit**day)  # we can change parameters as we want and need\n",
    "print(\"You will earn:\" ,earn ,\"$\")"
   ]
  }
 ],
 "metadata": {
  "interpreter": {
   "hash": "5e1c0650b3c4e66ca21157f6c57ec13966c7c2d9c396385eb00557cdcc2c7667"
  },
  "kernelspec": {
   "display_name": "Python 3.10.4 64-bit",
   "language": "python",
   "name": "python3"
  },
  "language_info": {
   "codemirror_mode": {
    "name": "ipython",
    "version": 3
   },
   "file_extension": ".py",
   "mimetype": "text/x-python",
   "name": "python",
   "nbconvert_exporter": "python",
   "pygments_lexer": "ipython3",
   "version": "3.10.4"
  },
  "orig_nbformat": 4
 },
 "nbformat": 4,
 "nbformat_minor": 2
}
